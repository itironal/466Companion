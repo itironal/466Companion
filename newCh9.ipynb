{
 "cells": [
  {
   "cell_type": "markdown",
   "metadata": {
    "id": "fbDGyVpbAM29"
   },
   "source": [
    "# Chapter 9: Image Compression\n",
    "This is the companion file for Chapter 9."
   ]
  },
  {
   "cell_type": "markdown",
   "metadata": {},
   "source": [
    "## Video 9.1\n",
    "**Image Compression and JPEG**"
   ]
  },
  {
   "cell_type": "markdown",
   "metadata": {},
   "source": [
    "[![Image Compression and JPEG](https://img.youtube.com/vi/Ba89cI9eIg8/0.jpg)](https://www.youtube.com/watch?v=Ba89cI9eIg8)\n"
   ]
  },
  {
   "cell_type": "markdown",
   "metadata": {},
   "source": [
    "## Video 9.2\n",
    "**A nice video, which explains the contribution of Al-Khwarizmi to Computer Science and Mathematics.**"
   ]
  },
  {
   "cell_type": "markdown",
   "metadata": {},
   "source": [
    "[![A nice video, which explains the contribution of Al-Khwarizmi to Computer Science and Mathematics.](https://img.youtube.com/vi/FsSCSebRDiU/0.jpg)](https://www.youtube.com/watch?v=FsSCSebRDiU)\n",
    "\n"
   ]
  },
  {
   "cell_type": "markdown",
   "metadata": {},
   "source": [
    "## Video 9.3\n",
    "**What is Entropy? Khan Academy**"
   ]
  },
  {
   "cell_type": "markdown",
   "metadata": {},
   "source": [
    "[![What is Entropy? Khan Academy.](https://img.youtube.com/vi/Svvr5uF_FZ8/0.jpg)](https://www.youtube.com/watch?v=Svvr5uF_FZ8)\n",
    "\n"
   ]
  },
  {
   "cell_type": "markdown",
   "metadata": {},
   "source": [
    "## Video 9.4\n",
    "**Information Entropy**"
   ]
  },
  {
   "cell_type": "markdown",
   "metadata": {},
   "source": [
    "[![Information Entropy by Khan Academy.](https://img.youtube.com/vi/2s3aJfRr9gE/0.jpg)](https://www.youtube.com/watch?v=2s3aJfRr9gE)\n",
    "\n"
   ]
  }
 ],
 "metadata": {
  "colab": {
   "collapsed_sections": [],
   "name": "466-L9.ipynb",
   "provenance": []
  },
  "kernelspec": {
   "display_name": "Python 3 (ipykernel)",
   "language": "python",
   "name": "python3"
  },
  "language_info": {
   "codemirror_mode": {
    "name": "ipython",
    "version": 3
   },
   "file_extension": ".py",
   "mimetype": "text/x-python",
   "name": "python",
   "nbconvert_exporter": "python",
   "pygments_lexer": "ipython3",
   "version": "3.9.5"
  },
  "latex_envs": {
   "LaTeX_envs_menu_present": true,
   "autoclose": false,
   "autocomplete": true,
   "bibliofile": "biblio.bib",
   "cite_by": "apalike",
   "current_citInitial": 1,
   "eqLabelWithNumbers": true,
   "eqNumInitial": 1,
   "hotkeys": {
    "equation": "Ctrl-E",
    "itemize": "Ctrl-I"
   },
   "labels_anchors": false,
   "latex_user_defs": false,
   "report_style_numbering": false,
   "user_envs_cfg": false
  },
  "vscode": {
   "interpreter": {
    "hash": "162108af2927e16146bdfc9b1cb3349af731d54457e65e759bc15e00f7b9137f"
   }
  }
 },
 "nbformat": 4,
 "nbformat_minor": 1
}
