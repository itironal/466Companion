{
 "cells": [
  {
   "cell_type": "markdown",
   "metadata": {},
   "source": [
    "# Chapter 15: Deep Learning Approaches to Image Processing Tasks\n",
    "\n",
    "This is the companion file for Chapter 15.\n"
   ]
  },
  {
   "cell_type": "markdown",
   "metadata": {},
   "source": [
    "## 15.1 Image Denoising\n",
    "\n",
    "- [Deep Image Prior](https://dmitryulyanov.github.io/deep_image_prior)"
   ]
  },
  {
   "cell_type": "markdown",
   "metadata": {},
   "source": [
    "## 15.2 Image Super-Resolution\n",
    "\n",
    "- [SRCNN: Image Super-Resolution Using Deep Convolutional Networks](https://arxiv.org/abs/1501.00092)\n",
    "- [SinSR: Diffusion-Based Image Super-Resolution in a Single Step](https://github.com/wyf0912/SinSR)\n",
    "- [Real-ESRGAN: Training Real-World Blind Super-Resolution\n",
    "with Pure Synthetic Data](https://github.com/xinntao/Real-ESRGAN)\n"
   ]
  },
  {
   "cell_type": "markdown",
   "metadata": {},
   "source": [
    "## 15.3 Image Colorization\n",
    "\n",
    "- [GCP-Colorization: Towards Vivid and Diverse Image Colorization with Generative Color Prior](https://github.com/ToTheBeginning/GCP-Colorization)\n",
    "- [Colorful Image Colorization](https://richzhang.github.io/colorization/)\n",
    "- [Colorization with Learned Deep Priors](https://richzhang.github.io/InteractiveColorization/)\n",
    "- [DeepAI](https://deepai.org/machine-learning-model/colorizer)"
   ]
  },
  {
   "cell_type": "markdown",
   "metadata": {},
   "source": [
    "## 15.4 Image Inpainting\n",
    "\n",
    "- [FLUX.1-Kontext](https://flux1.ai/flux-kontext)"
   ]
  },
  {
   "cell_type": "markdown",
   "metadata": {},
   "source": [
    "## 15.5 Image Compression and Dimensionality Reduction\n",
    "\n",
    "- [Learned-Image-Compression-with-GMM-and-Attention](https://github.com/ZhengxueCheng/Learned-Image-Compression-with-GMM-and-Attention)"
   ]
  },
  {
   "cell_type": "markdown",
   "metadata": {},
   "source": [
    "## 15.6 Image Segmentation\n",
    "\n",
    "- [SegFormer: Simple and Efficient Design for Semantic Segmentation with Transformers](https://github.com/NVlabs/SegFormer)"
   ]
  },
  {
   "cell_type": "markdown",
   "metadata": {},
   "source": [
    "## 15.7 Image Generation\n",
    "\n",
    "- [OmniGen2](https://github.com/VectorSpaceLab/OmniGen2)\n",
    "- [StableDiffusion](https://github.com/CompVis/stable-diffusion)\n",
    "- [FLUX.1-Kontext](https://flux1.ai/flux-kontext)"
   ]
  },
  {
   "cell_type": "markdown",
   "metadata": {},
   "source": [
    "## 15.8 Text-to-Image Generation\n",
    "\n",
    "- [Imagen](https://github.com/lucidrains/imagen-pytorch)\n",
    "- [DALL-E 2](https://github.com/lucidrains/DALLE2-pytorch)\n",
    "- [Stable Diffusion XL](https://huggingface.co/docs/diffusers/en/using-diffusers/sdxl)\n",
    "- [aMUSEd: An Open MUSE Reproduction](https://huggingface.co/spaces/amused/amused)\n",
    "- [PixArt-alpha: Fast Training of Diffusion Transformer for Photorealistic Text-to-Image Synthesis](https://github.com/PixArt-alpha/PixArt-alpha)"
   ]
  },
  {
   "cell_type": "markdown",
   "metadata": {},
   "source": [
    "## 15.9 Image-to-Text Generation\n",
    "\n",
    "- [CLIPCap: CLIP Prefix for Image Captioning](https://github.com/rmokady/CLIP_prefix_caption)\n",
    "- [Vision-GPT2: Image Captioning Model](https://github.com/shreydan/VisionGPT2)\n",
    "- [ViT-GPT2](https://huggingface.co/nlpconnect/vit-gpt2-image-captioning)"
   ]
  },
  {
   "cell_type": "markdown",
   "metadata": {},
   "source": [
    "## 15.10 Style Transfer\n",
    "\n",
    "- [Instant Style](https://github.com/instantX-research/InstantStyle)"
   ]
  },
  {
   "cell_type": "markdown",
   "metadata": {},
   "source": [
    "## 15.11 Object Detection\n",
    "\n",
    "- [You Only Look Once (YOLO) v12](https://github.com/ultralytics/ultralytics/tree/main/ultralytics/cfg/models/12)\n",
    "- [DERT: End-to-End Object Detection with Transformers](https://github.com/facebookresearch/detr)\n",
    "- [HoughNet](https://arxiv.org/abs/2007.02355)\n",
    "- [Florence-2](https://huggingface.co/microsoft/Florence-2-large)"
   ]
  }
 ],
 "metadata": {
  "colab": {
   "collapsed_sections": [],
   "name": "466-L1.ipynb",
   "provenance": []
  },
  "kernelspec": {
   "display_name": "Python 3 (ipykernel)",
   "language": "python",
   "name": "python3"
  },
  "language_info": {
   "codemirror_mode": {
    "name": "ipython",
    "version": 3
   },
   "file_extension": ".py",
   "mimetype": "text/x-python",
   "name": "python",
   "nbconvert_exporter": "python",
   "pygments_lexer": "ipython3",
   "version": "3.9.5"
  },
  "latex_envs": {
   "LaTeX_envs_menu_present": true,
   "autoclose": false,
   "autocomplete": true,
   "bibliofile": "biblio.bib",
   "cite_by": "apalike",
   "current_citInitial": 1,
   "eqLabelWithNumbers": true,
   "eqNumInitial": 1,
   "hotkeys": {
    "equation": "Ctrl-E",
    "itemize": "Ctrl-I"
   },
   "labels_anchors": false,
   "latex_user_defs": false,
   "report_style_numbering": false,
   "user_envs_cfg": false
  },
  "vscode": {
   "interpreter": {
    "hash": "31f2aee4e71d21fbe5cf8b01ff0e069b9275f58929596ceb00d14d90e3e16cd6"
   }
  }
 },
 "nbformat": 4,
 "nbformat_minor": 1
}
