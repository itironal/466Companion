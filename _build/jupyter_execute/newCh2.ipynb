{
 "cells": [
  {
   "cell_type": "markdown",
   "metadata": {},
   "source": [
    "# Chapter 2 Human Visual System and Image Perception\n",
    "\n",
    "This is the companion file for Chapter 2.\n"
   ]
  },
  {
   "cell_type": "markdown",
   "metadata": {},
   "source": [
    "## **Video 2.1**\n",
    "**The experiment about the decomposition of white light by Isaac Newton.**"
   ]
  },
  {
   "cell_type": "markdown",
   "metadata": {},
   "source": [
    "[![The experiment about the decomposition of white light by Isaac Newton](https://img.youtube.com/vi/6_HroTxaZe0/0.jpg)](https://www.youtube.com/watch?v=6_HroTxaZe0)\n",
    "\n",
    "*The experiment about the decomposition of white light by Isaac Newton.*\n"
   ]
  },
  {
   "cell_type": "markdown",
   "metadata": {},
   "source": [
    "## **Video 2.2**\n",
    "**The history of light**"
   ]
  },
  {
   "cell_type": "markdown",
   "metadata": {},
   "source": [
    "[![The history of light](https://img.youtube.com/vi/OLCqaWaV6jA/0.jpg)](https://www.youtube.com/watch?v=OLCqaWaV6jA)\n",
    "\n",
    "*The history of light.*\n"
   ]
  },
  {
   "cell_type": "markdown",
   "metadata": {},
   "source": [
    "## **Video 2.3**\n",
    "**How your eyes make sense of the world**"
   ]
  },
  {
   "cell_type": "markdown",
   "metadata": {},
   "source": [
    "[![This video illustrates how our eyes work to generate a digital image out of visible light.](https://img.youtube.com/vi/hsh2kPdgazo/0.jpg)](https://www.youtube.com/watch?v=hsh2kPdgazo)\n",
    "\n",
    "*This video illustrates how our eyes work to generate a digital image out of visible light.*\n"
   ]
  },
  {
   "cell_type": "markdown",
   "metadata": {},
   "source": [
    "## **Video 2.4**\n",
    "**Color perception based on surroundings**"
   ]
  },
  {
   "cell_type": "markdown",
   "metadata": {},
   "source": [
    "[![When the color is coded in the brain, it is coded with respect to its surroundings. Carefully, watch the video and observe how you perceive the exact same color as different, when the background changes.](https://img.youtube.com/vi/n_5g9URYGo4/0.jpg)](https://www.youtube.com/watch?v=n_5g9URYGo4)\n",
    "\n",
    "*When the color is coded in the brain, it is coded with respect to its surroundings. Carefully, watch the video and observe how you perceive the exact same color as different, when the background changes.*\n"
   ]
  },
  {
   "cell_type": "markdown",
   "metadata": {},
   "source": [
    "## **Programming exercise 2.1:** \n",
    "\n",
    "Let us present two spots of light, each with an intensity of 100 units, to an observer. Suppose that the Just Noticeable Difference (JND) threshold is \\( \\Delta I(100) = 10 \\) to discriminate the brightness levels of two spots. If the light intensity of the two spots were 150 units, what is the corresponding \\( \\Delta I(150) \\)?"
   ]
  },
  {
   "cell_type": "code",
   "execution_count": 1,
   "metadata": {},
   "outputs": [
    {
     "data": {
      "text/markdown": [
       "**Weber's Law Calculation:**"
      ],
      "text/plain": [
       "<IPython.core.display.Markdown object>"
      ]
     },
     "metadata": {},
     "output_type": "display_data"
    },
    {
     "data": {
      "text/latex": [
       "$\\displaystyle k = \\frac{\\Delta I(I_1)}{I_1} = \\frac{10}{100} = 0.1$"
      ],
      "text/plain": [
       "<IPython.core.display.Math object>"
      ]
     },
     "metadata": {},
     "output_type": "display_data"
    },
    {
     "data": {
      "text/latex": [
       "$\\displaystyle \\Delta I(I_2) = k \\times I_2 = 0.1 \\times 150 = 15.0$"
      ],
      "text/plain": [
       "<IPython.core.display.Math object>"
      ]
     },
     "metadata": {},
     "output_type": "display_data"
    },
    {
     "data": {
      "text/markdown": [
       "Thus, the corresponding JND threshold for an intensity of 150 units is"
      ],
      "text/plain": [
       "<IPython.core.display.Markdown object>"
      ]
     },
     "metadata": {},
     "output_type": "display_data"
    },
    {
     "data": {
      "text/latex": [
       "$\\displaystyle \\Delta I(150) = 15.0.$"
      ],
      "text/plain": [
       "<IPython.core.display.Math object>"
      ]
     },
     "metadata": {},
     "output_type": "display_data"
    }
   ],
   "source": [
    "import IPython\n",
    "from IPython.display import Math, Markdown\n",
    "\n",
    "# Define the initial intensity and JND for the example\n",
    "initial_intensity_1 = 100\n",
    "delta_I_1 = 10\n",
    "\n",
    "# Calculate k (the constant)\n",
    "k = delta_I_1 / initial_intensity_1\n",
    "\n",
    "# New intensity to evaluate\n",
    "initial_intensity_2 = 150\n",
    "\n",
    "# Calculate the JND for the new intensity using Weber's Law\n",
    "delta_I_2 = k * initial_intensity_2\n",
    "\n",
    "# Display the results using Math for proper formula rendering\n",
    "display(Markdown(\"**Weber's Law Calculation:**\"))\n",
    "\n",
    "# Display each part of the calculation step-by-step\n",
    "display(Math(f\"k = \\\\frac{{\\\\Delta I(I_1)}}{{I_1}} = \\\\frac{{{delta_I_1}}}{{{initial_intensity_1}}} = {k}\"))\n",
    "display(Math(f\"\\\\Delta I(I_2) = k \\\\times I_2 = {k} \\\\times {initial_intensity_2} = {delta_I_2}\"))\n",
    "\n",
    "# Display final result\n",
    "display(Markdown(\"Thus, the corresponding JND threshold for an intensity of 150 units is\"))\n",
    "display(Math(f\"\\\\Delta I(150) = {delta_I_2}.\"))"
   ]
  }
 ],
 "metadata": {
  "colab": {
   "collapsed_sections": [],
   "name": "466-L2.ipynb",
   "provenance": []
  },
  "kernelspec": {
   "display_name": "Python 3 (ipykernel)",
   "language": "python",
   "name": "python3"
  },
  "language_info": {
   "codemirror_mode": {
    "name": "ipython",
    "version": 3
   },
   "file_extension": ".py",
   "mimetype": "text/x-python",
   "name": "python",
   "nbconvert_exporter": "python",
   "pygments_lexer": "ipython3",
   "version": "3.9.5"
  },
  "latex_envs": {
   "LaTeX_envs_menu_present": true,
   "autoclose": false,
   "autocomplete": true,
   "bibliofile": "biblio.bib",
   "cite_by": "apalike",
   "current_citInitial": 1,
   "eqLabelWithNumbers": true,
   "eqNumInitial": 1,
   "hotkeys": {
    "equation": "Ctrl-E",
    "itemize": "Ctrl-I"
   },
   "labels_anchors": false,
   "latex_user_defs": false,
   "report_style_numbering": false,
   "user_envs_cfg": false
  },
  "vscode": {
   "interpreter": {
    "hash": "31f2aee4e71d21fbe5cf8b01ff0e069b9275f58929596ceb00d14d90e3e16cd6"
   }
  },
  "widgets": {
   "application/vnd.jupyter.widget-state+json": {
    "1fe1408f1c354de3b0029701ee59d75a": {
     "model_module": "@jupyter-widgets/controls",
     "model_module_version": "1.5.0",
     "model_name": "ButtonModel",
     "state": {
      "_dom_classes": [],
      "_model_module": "@jupyter-widgets/controls",
      "_model_module_version": "1.5.0",
      "_model_name": "ButtonModel",
      "_view_count": null,
      "_view_module": "@jupyter-widgets/controls",
      "_view_module_version": "1.5.0",
      "_view_name": "ButtonView",
      "button_style": "",
      "description": "Click Me!",
      "disabled": false,
      "icon": "",
      "layout": "IPY_MODEL_7246b2c3beeb4d82973abf84ec3cab5f",
      "style": "IPY_MODEL_e049eff6b42d4829bbf24ae4f09f903f",
      "tooltip": ""
     }
    },
    "7246b2c3beeb4d82973abf84ec3cab5f": {
     "model_module": "@jupyter-widgets/base",
     "model_module_version": "1.2.0",
     "model_name": "LayoutModel",
     "state": {
      "_model_module": "@jupyter-widgets/base",
      "_model_module_version": "1.2.0",
      "_model_name": "LayoutModel",
      "_view_count": null,
      "_view_module": "@jupyter-widgets/base",
      "_view_module_version": "1.2.0",
      "_view_name": "LayoutView",
      "align_content": null,
      "align_items": null,
      "align_self": null,
      "border": null,
      "bottom": null,
      "display": null,
      "flex": null,
      "flex_flow": null,
      "grid_area": null,
      "grid_auto_columns": null,
      "grid_auto_flow": null,
      "grid_auto_rows": null,
      "grid_column": null,
      "grid_gap": null,
      "grid_row": null,
      "grid_template_areas": null,
      "grid_template_columns": null,
      "grid_template_rows": null,
      "height": null,
      "justify_content": null,
      "justify_items": null,
      "left": null,
      "margin": null,
      "max_height": null,
      "max_width": null,
      "min_height": null,
      "min_width": null,
      "object_fit": null,
      "object_position": null,
      "order": null,
      "overflow": null,
      "overflow_x": null,
      "overflow_y": null,
      "padding": null,
      "right": null,
      "top": null,
      "visibility": null,
      "width": null
     }
    },
    "afede68fd5b34719ae6c3399b9535711": {
     "model_module": "@jupyter-widgets/base",
     "model_module_version": "1.2.0",
     "model_name": "LayoutModel",
     "state": {
      "_model_module": "@jupyter-widgets/base",
      "_model_module_version": "1.2.0",
      "_model_name": "LayoutModel",
      "_view_count": null,
      "_view_module": "@jupyter-widgets/base",
      "_view_module_version": "1.2.0",
      "_view_name": "LayoutView",
      "align_content": null,
      "align_items": null,
      "align_self": null,
      "border": null,
      "bottom": null,
      "display": null,
      "flex": null,
      "flex_flow": null,
      "grid_area": null,
      "grid_auto_columns": null,
      "grid_auto_flow": null,
      "grid_auto_rows": null,
      "grid_column": null,
      "grid_gap": null,
      "grid_row": null,
      "grid_template_areas": null,
      "grid_template_columns": null,
      "grid_template_rows": null,
      "height": null,
      "justify_content": null,
      "justify_items": null,
      "left": null,
      "margin": null,
      "max_height": null,
      "max_width": null,
      "min_height": null,
      "min_width": null,
      "object_fit": null,
      "object_position": null,
      "order": null,
      "overflow": null,
      "overflow_x": null,
      "overflow_y": null,
      "padding": null,
      "right": null,
      "top": null,
      "visibility": null,
      "width": null
     }
    },
    "e049eff6b42d4829bbf24ae4f09f903f": {
     "model_module": "@jupyter-widgets/controls",
     "model_module_version": "1.5.0",
     "model_name": "ButtonStyleModel",
     "state": {
      "_model_module": "@jupyter-widgets/controls",
      "_model_module_version": "1.5.0",
      "_model_name": "ButtonStyleModel",
      "_view_count": null,
      "_view_module": "@jupyter-widgets/base",
      "_view_module_version": "1.2.0",
      "_view_name": "StyleView",
      "button_color": null,
      "font_weight": ""
     }
    },
    "f0497772cdb24a619ae14a52c40d6b28": {
     "model_module": "@jupyter-widgets/output",
     "model_module_version": "1.0.0",
     "model_name": "OutputModel",
     "state": {
      "_dom_classes": [],
      "_model_module": "@jupyter-widgets/output",
      "_model_module_version": "1.0.0",
      "_model_name": "OutputModel",
      "_view_count": null,
      "_view_module": "@jupyter-widgets/output",
      "_view_module_version": "1.0.0",
      "_view_name": "OutputView",
      "layout": "IPY_MODEL_afede68fd5b34719ae6c3399b9535711",
      "msg_id": "",
      "outputs": [
       {
        "data": {
         "text/markdown": "Obviously, k=0.1 and it should remain constant, according to Weber’s law. Thus, when two spots have 150 units of intensity, then $\\Delta I(150)= 0.1x150= 15$? This example shows that as the intensity is increased JND threshold increases proportionally. Interestingly, Weber's Law is valid for a wide range of sensory modalities, such as brightness, loudness, mass, line length, etc. Although the Weber ratio varies across modalities, it remains constant within a specific modality.",
         "text/plain": "<IPython.core.display.Markdown object>"
        },
        "metadata": {},
        "output_type": "display_data"
       }
      ]
     }
    }
   }
  }
 },
 "nbformat": 4,
 "nbformat_minor": 1
}