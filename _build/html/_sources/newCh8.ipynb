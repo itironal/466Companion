{
 "cells": [
  {
   "cell_type": "markdown",
   "metadata": {
    "id": "fbDGyVpbAM29"
   },
   "source": [
    "# Chapter 8: Wavelet Transforms and Multiresolution Image Analysis\n",
    "This is the companion file for Chapter 8."
   ]
  },
  {
   "cell_type": "markdown",
   "metadata": {},
   "source": [
    "## Video 8.1. A useful explanation of vector spaces"
   ]
  },
  {
   "cell_type": "markdown",
   "metadata": {},
   "source": [
    "[![A useful explanation of the video](https://img.youtube.com/vi/tMV61BZCrhk/0.jpg)](https://www.youtube.com/watch?v=tMV61BZCrhk)\n"
   ]
  },
  {
   "cell_type": "markdown",
   "metadata": {},
   "source": [
    "## Video 8.2. A nice introduction to wavelets"
   ]
  },
  {
   "cell_type": "markdown",
   "metadata": {},
   "source": [
    "[![A useful explanation of the video](https://img.youtube.com/vi/ZnmvUCtUAEE/0.jpg)](https://www.youtube.com/watch?v=ZnmvUCtUAEE)\n"
   ]
  },
  {
   "cell_type": "markdown",
   "metadata": {},
   "source": [
    "## Video 8.3. Basic concepts of wavelet transforms"
   ]
  },
  {
   "cell_type": "markdown",
   "metadata": {},
   "source": [
    "[![Basic Concepts of Wavelet Transforms](https://img.youtube.com/vi/QX1-xGVFqmw/0.jpg)](https://www.youtube.com/watch?v=QX1-xGVFqmw&t=16s)\n"
   ]
  },
  {
   "cell_type": "markdown",
   "metadata": {},
   "source": [
    "## Video 8.4. There are a lot of lessons to be taken from the life of Fourier (Part 2)"
   ]
  },
  {
   "cell_type": "markdown",
   "metadata": {},
   "source": [
    "[![Discrete Wavelet Transform](https://img.youtube.com/vi/F7Lg-nFYooU/0.jpg)](https://www.youtube.com/watch?v=F7Lg-nFYooU)\n"
   ]
  }
 ],
 "metadata": {
  "colab": {
   "collapsed_sections": [],
   "name": "466-L9.ipynb",
   "provenance": []
  },
  "kernelspec": {
   "display_name": "Python 3 (ipykernel)",
   "language": "python",
   "name": "python3"
  },
  "language_info": {
   "codemirror_mode": {
    "name": "ipython",
    "version": 3
   },
   "file_extension": ".py",
   "mimetype": "text/x-python",
   "name": "python",
   "nbconvert_exporter": "python",
   "pygments_lexer": "ipython3",
   "version": "3.9.5"
  },
  "latex_envs": {
   "LaTeX_envs_menu_present": true,
   "autoclose": false,
   "autocomplete": true,
   "bibliofile": "biblio.bib",
   "cite_by": "apalike",
   "current_citInitial": 1,
   "eqLabelWithNumbers": true,
   "eqNumInitial": 1,
   "hotkeys": {
    "equation": "Ctrl-E",
    "itemize": "Ctrl-I"
   },
   "labels_anchors": false,
   "latex_user_defs": false,
   "report_style_numbering": false,
   "user_envs_cfg": false
  },
  "vscode": {
   "interpreter": {
    "hash": "162108af2927e16146bdfc9b1cb3349af731d54457e65e759bc15e00f7b9137f"
   }
  }
 },
 "nbformat": 4,
 "nbformat_minor": 1
}
